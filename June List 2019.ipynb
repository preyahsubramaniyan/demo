{
    "cells": [
        {
            "cell_type": "code",
            "execution_count": 1,
            "metadata": {},
            "outputs": [
                {
                    "name": "stdout",
                    "output_type": "stream",
                    "text": "Waiting for a Spark session to start...\nSpark Initialization Done! ApplicationId = app-20200720074034-0000\nKERNEL_ID = a32563b1-a680-4a91-845c-b958a444c15f\n"
                },
                {
                    "data": {
                        "text/html": "<div>\n<style scoped>\n    .dataframe tbody tr th:only-of-type {\n        vertical-align: middle;\n    }\n\n    .dataframe tbody tr th {\n        vertical-align: top;\n    }\n\n    .dataframe thead th {\n        text-align: right;\n    }\n</style>\n<table border=\"1\" class=\"dataframe\">\n  <thead>\n    <tr style=\"text-align: right;\">\n      <th></th>\n      <th>SEL</th>\n      <th>REG.NO</th>\n      <th>DOB</th>\n      <th>S.S</th>\n      <th>NAME</th>\n      <th>GOTHRAM</th>\n      <th>STAR</th>\n      <th>HT</th>\n      <th>QUAL</th>\n      <th>JOB</th>\n      <th>PLACE</th>\n      <th>INCOME</th>\n      <th>PA</th>\n      <th>QUAL.1</th>\n      <th>JOB.1</th>\n      <th>SS</th>\n      <th>JOB LOC</th>\n    </tr>\n  </thead>\n  <tbody>\n    <tr>\n      <th>0</th>\n      <td>NaN</td>\n      <td>180562/93</td>\n      <td>30/09/93</td>\n      <td>V</td>\n      <td>ARAVIND VIKIRAM</td>\n      <td>VADULAM</td>\n      <td>UTHIRATTADHI</td>\n      <td>5.7</td>\n      <td>B.TECH, (MBA)</td>\n      <td>ERICSSON INDIA</td>\n      <td>CHENNAI</td>\n      <td>70000</td>\n      <td>B</td>\n      <td>GR</td>\n      <td>P</td>\n      <td>NB</td>\n      <td>NaN</td>\n    </tr>\n    <tr>\n      <th>1</th>\n      <td>NaN</td>\n      <td>180590/93</td>\n      <td>25/05/93</td>\n      <td>B</td>\n      <td>SHRAVAN</td>\n      <td>KOUNDINYA</td>\n      <td>P.POOSAM</td>\n      <td>5.8</td>\n      <td>BE (CIVIL)</td>\n      <td>BHIM ENGINEER</td>\n      <td>BANGALORE</td>\n      <td>65000</td>\n      <td>B</td>\n      <td>GR</td>\n      <td>P</td>\n      <td>NB</td>\n      <td>NaN</td>\n    </tr>\n    <tr>\n      <th>2</th>\n      <td>NaN</td>\n      <td>180592/93</td>\n      <td>03/06/93</td>\n      <td>V</td>\n      <td>RAMA SUBRAMANIAN</td>\n      <td>SRIVATSAM</td>\n      <td>VISAGAM</td>\n      <td>5.1</td>\n      <td>BE (MECH), APSCM (IIM)</td>\n      <td>PENNAR INDUSTRIES LIMITED</td>\n      <td>CHENNAI</td>\n      <td>50000</td>\n      <td>B</td>\n      <td>GR</td>\n      <td>O</td>\n      <td>NB</td>\n      <td>NaN</td>\n    </tr>\n    <tr>\n      <th>3</th>\n      <td>NaN</td>\n      <td>180617/93</td>\n      <td>11/10/93</td>\n      <td>V</td>\n      <td>GOUTHAM</td>\n      <td>VISHVAMITHRAR</td>\n      <td>AYILYAM</td>\n      <td>5.9</td>\n      <td>B.COM, MBA, LLB</td>\n      <td>E&amp;Y</td>\n      <td>BANGALORE</td>\n      <td>62500</td>\n      <td>B</td>\n      <td>ANY</td>\n      <td>P</td>\n      <td>NB</td>\n      <td>NaN</td>\n    </tr>\n    <tr>\n      <th>4</th>\n      <td>Y</td>\n      <td>180626/93</td>\n      <td>01/05/93</td>\n      <td>V</td>\n      <td>ARUN GOVINDARAJAN</td>\n      <td>SRIVATSAM</td>\n      <td>MAGAM -4</td>\n      <td>5.5</td>\n      <td>B.COM, ACA, M.SC (F &amp; A) , CPA</td>\n      <td>KPMG</td>\n      <td>BANGALORE</td>\n      <td>150000</td>\n      <td>B</td>\n      <td>PROF / PG</td>\n      <td>P</td>\n      <td>NB</td>\n      <td>NaN</td>\n    </tr>\n  </tbody>\n</table>\n</div>",
                        "text/plain": "   SEL     REG.NO       DOB S.S               NAME        GOTHRAM  \\\n0  NaN  180562/93  30/09/93   V    ARAVIND VIKIRAM        VADULAM   \n1  NaN  180590/93  25/05/93   B           SHRAVAN       KOUNDINYA   \n2  NaN  180592/93  03/06/93   V   RAMA SUBRAMANIAN      SRIVATSAM   \n3  NaN  180617/93  11/10/93   V            GOUTHAM  VISHVAMITHRAR   \n4    Y  180626/93  01/05/93   V  ARUN GOVINDARAJAN      SRIVATSAM   \n\n           STAR   HT                            QUAL  \\\n0  UTHIRATTADHI  5.7                   B.TECH, (MBA)   \n1      P.POOSAM  5.8                      BE (CIVIL)   \n2       VISAGAM  5.1          BE (MECH), APSCM (IIM)   \n3       AYILYAM  5.9                 B.COM, MBA, LLB   \n4      MAGAM -4  5.5  B.COM, ACA, M.SC (F & A) , CPA   \n\n                         JOB      PLACE  INCOME PA     QUAL.1 JOB.1  SS  \\\n0             ERICSSON INDIA    CHENNAI   70000  B         GR     P  NB   \n1              BHIM ENGINEER  BANGALORE   65000  B         GR     P  NB   \n2  PENNAR INDUSTRIES LIMITED    CHENNAI   50000  B         GR     O  NB   \n3                        E&Y  BANGALORE   62500  B        ANY     P  NB   \n4                       KPMG  BANGALORE  150000  B  PROF / PG     P  NB   \n\n   JOB LOC  \n0      NaN  \n1      NaN  \n2      NaN  \n3      NaN  \n4      NaN  "
                    },
                    "execution_count": 1,
                    "metadata": {},
                    "output_type": "execute_result"
                }
            ],
            "source": "# The code was removed by Watson Studio for sharing."
        },
        {
            "cell_type": "code",
            "execution_count": null,
            "metadata": {},
            "outputs": [],
            "source": ""
        },
        {
            "cell_type": "code",
            "execution_count": null,
            "metadata": {},
            "outputs": [],
            "source": ""
        }
    ],
    "metadata": {
        "kernelspec": {
            "display_name": "Python 3.6 with Spark",
            "language": "python3",
            "name": "python36"
        },
        "language_info": {
            "codemirror_mode": {
                "name": "ipython",
                "version": 3
            },
            "file_extension": ".py",
            "mimetype": "text/x-python",
            "name": "python",
            "nbconvert_exporter": "python",
            "pygments_lexer": "ipython3",
            "version": "3.6.8"
        }
    },
    "nbformat": 4,
    "nbformat_minor": 1
}